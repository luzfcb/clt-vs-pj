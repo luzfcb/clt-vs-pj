{
  "cells": [
    {
      "cell_type": "code",
      "execution_count": 18,
      "metadata": {
        "pycharm": {
          "is_executing": false,
          "metadata": false,
          "name": "#%%\n"
        }
      },
      "outputs": [],
      "source": "salario_mensal_bruto\u003d[1_903.98, 2_826.66, 3_751.06, 4_664.68, 9_000, 18_500, 25_000, 30_000]\n"
    },
    {
      "cell_type": "code",
      "execution_count": 5,
      "metadata": {
        "pycharm": {
          "is_executing": false
        }
      },
      "outputs": [],
      "source": [
        "def mostrar_descontos_mensais(funcao):\n",
        "    return [(f\u0027R$ {salario:,.2f}\u0027, f\u0027R$ {funcao(salario):,.2f}\u0027, f\u0027{funcao(salario) / salario:.2%}\u0027) for salario in salario_mensal_bruto]"
      ]
    },
    {
      "cell_type": "code",
      "execution_count": 6,
      "metadata": {
        "pycharm": {
          "is_executing": false
        }
      },
      "outputs": [],
      "source": [
        "def imposto_de_renda_mensal(salario_mensal:float) -\u003e float:\n",
        "    \"\"\"\n",
        "    Calcula imposto de renda PF de acordo com faixa do ano de 2019\n",
        "    https://impostoderenda2019.net.br/tabela-imposto-de-renda-2019/\n",
        "    \n",
        "    \"\"\"\n",
        "    saldo \u003d salario_mensal\n",
        "    aliquotas_faixas \u003d {0.275: 4_664.68, 0.225: 3_751.06, 0.15: 2_826.66, 0.075: 1_903.98, 0: 0}\n",
        "    ir \u003d 0\n",
        "    desconto_simplificado \u003d 0.20  # 20% de desconto simplificado\n",
        "    for aliquota, faixa in aliquotas_faixas.items():\n",
        "        delta \u003d max(saldo - faixa, 0)\n",
        "        ir +\u003d delta * aliquota * (1 - desconto_simplificado)\n",
        "        saldo \u003d min(saldo, faixa)\n",
        "    return ir\n"
      ]
    },
    {
      "cell_type": "code",
      "execution_count": 8,
      "metadata": {
        "pycharm": {
          "is_executing": false
        }
      },
      "outputs": [
        {
          "data": {
            "text/plain": "[(\u0027R$ 1,903.98\u0027, \u0027R$ 0.00\u0027, \u00270.00%\u0027),\n (\u0027R$ 2,826.66\u0027, \u0027R$ 55.36\u0027, \u00271.96%\u0027),\n (\u0027R$ 3,751.06\u0027, \u0027R$ 166.29\u0027, \u00274.43%\u0027),\n (\u0027R$ 4,664.68\u0027, \u0027R$ 330.74\u0027, \u00277.09%\u0027),\n (\u0027R$ 9,000.00\u0027, \u0027R$ 1,284.51\u0027, \u002714.27%\u0027),\n (\u0027R$ 15,000.00\u0027, \u0027R$ 2,604.51\u0027, \u002717.36%\u0027),\n (\u0027R$ 25,000.00\u0027, \u0027R$ 4,804.51\u0027, \u002719.22%\u0027),\n (\u0027R$ 30,000.00\u0027, \u0027R$ 5,904.51\u0027, \u002719.68%\u0027)]"
          },
          "metadata": {},
          "output_type": "execute_result",
          "execution_count": 8
        }
      ],
      "source": [
        "mostrar_descontos_mensais(imposto_de_renda_mensal)\n"
      ]
    },
    {
      "cell_type": "code",
      "execution_count": 9,
      "metadata": {
        "pycharm": {
          "is_executing": false
        }
      },
      "outputs": [],
      "source": "def fgts_mensal(salario_mensal: float)-\u003e float:\n    \"\"\"\n    Calcula fgts a ser pago de imposto pelo empregador em 1 ano. \n    Aliquota de 8% + 40% disso em caso de demissão com justa causa -\u003e 11,2%\n    \n    \n    :param salario_mensal: salário mensal bruto do empregado\n    :return: float\n    \"\"\"\n    return salario_mensal * 0.112\n"
    },
    {
      "cell_type": "code",
      "execution_count": 10,
      "metadata": {
        "pycharm": {
          "is_executing": false
        }
      },
      "outputs": [
        {
          "data": {
            "text/plain": "[(\u0027R$ 1,903.98\u0027, \u0027R$ 213.25\u0027, \u002711.20%\u0027),\n (\u0027R$ 2,826.66\u0027, \u0027R$ 316.59\u0027, \u002711.20%\u0027),\n (\u0027R$ 3,751.06\u0027, \u0027R$ 420.12\u0027, \u002711.20%\u0027),\n (\u0027R$ 4,664.68\u0027, \u0027R$ 522.44\u0027, \u002711.20%\u0027),\n (\u0027R$ 9,000.00\u0027, \u0027R$ 1,008.00\u0027, \u002711.20%\u0027),\n (\u0027R$ 15,000.00\u0027, \u0027R$ 1,680.00\u0027, \u002711.20%\u0027),\n (\u0027R$ 25,000.00\u0027, \u0027R$ 2,800.00\u0027, \u002711.20%\u0027),\n (\u0027R$ 30,000.00\u0027, \u0027R$ 3,360.00\u0027, \u002711.20%\u0027)]"
          },
          "metadata": {},
          "output_type": "execute_result",
          "execution_count": 10
        }
      ],
      "source": "mostrar_descontos_mensais(fgts_mensal)\n"
    },
    {
      "cell_type": "code",
      "execution_count": 12,
      "metadata": {
        "pycharm": {
          "is_executing": false
        }
      },
      "outputs": [],
      "source": "def inss_empregado(salario_mensal):\n    \"\"\"\n    Calcula inss para 2019\n    :param salario_mensal: \n    :return: \n    \"\"\"\n    if salario_mensal \u003c 1_751.81:\n        return salario_mensal * 0.08\n    elif salario_mensal \u003c 2_919.72:\n        return salario_mensal * 0.09\n    \n    teto \u003d 5_839.45\n    return min(salario_mensal, teto) * 0.11\n"
    },
    {
      "cell_type": "code",
      "execution_count": 13,
      "metadata": {
        "pycharm": {
          "is_executing": false
        }
      },
      "outputs": [
        {
          "data": {
            "text/plain": "[(\u0027R$ 1,903.98\u0027, \u0027R$ 171.36\u0027, \u00279.00%\u0027),\n (\u0027R$ 2,826.66\u0027, \u0027R$ 254.40\u0027, \u00279.00%\u0027),\n (\u0027R$ 3,751.06\u0027, \u0027R$ 412.62\u0027, \u002711.00%\u0027),\n (\u0027R$ 4,664.68\u0027, \u0027R$ 513.11\u0027, \u002711.00%\u0027),\n (\u0027R$ 9,000.00\u0027, \u0027R$ 642.34\u0027, \u00277.14%\u0027),\n (\u0027R$ 15,000.00\u0027, \u0027R$ 642.34\u0027, \u00274.28%\u0027),\n (\u0027R$ 25,000.00\u0027, \u0027R$ 642.34\u0027, \u00272.57%\u0027),\n (\u0027R$ 30,000.00\u0027, \u0027R$ 642.34\u0027, \u00272.14%\u0027)]"
          },
          "metadata": {},
          "output_type": "execute_result",
          "execution_count": 13
        }
      ],
      "source": [
        "\n",
        "mostrar_descontos_mensais(inss_empregado)"
      ]
    },
    {
      "cell_type": "code",
      "execution_count": 14,
      "metadata": {
        "pycharm": {
          "is_executing": false
        }
      },
      "outputs": [],
      "source": "def imposto_de_renda_anual(salario):\n    \"\"\"\n    Calcula imposto de renda anual considerando Décimo terceiro e terço de ferias\n    :param salario: \n    :return: \n    \"\"\"\n    ir \u003d imposto_de_renda_mensal(salario) * 11\n    salario_de_ferias \u003d salario + salario / 3\n    ir +\u003d imposto_de_renda_mensal(salario_de_ferias - inss_empregado(salario_de_ferias)) / 0.80\n    ir +\u003d imposto_de_renda_mensal(salario - inss_empregado(salario)) / 0.80  # Tributação exlusiva de décimo terceiro\n    return ir\n"
    },
    {
      "cell_type": "code",
      "execution_count": 17,
      "metadata": {
        "pycharm": {
          "is_executing": false
        }
      },
      "outputs": [],
      "source": [
        "def mostrar_descontos_anuais(funcao):\n",
        "    salarios \u003d salario_mensal_bruto\n",
        "    salarios_anuais \u003d [s * 13 + s / 3 for s in salario_mensal_bruto]\n",
        "    for tpl in [\n",
        "        (f\u0027Salário Mensal R$ {salario:,.2f}\u0027, f\u0027 Salário Anual R$ {salario_anual:,.2f}\u0027, f\u0027R$ {funcao(salario):,.2f}\u0027, f\u0027{funcao(salario) / salario_anual:.2%}\u0027) for\n",
        "        salario,  salario_anual in zip(salarios, salarios_anuais)]:\n",
        "        print(*tpl, sep\u003d\u0027 - \u0027)\n"
      ]
    },
    {
      "cell_type": "code",
      "execution_count": 19,
      "metadata": {
        "pycharm": {
          "is_executing": false
        }
      },
      "outputs": [
        {
          "name": "stdout",
          "text": [
            "Salário Mensal R$ 1,903.98 -  Salário Anual R$ 25,386.40 - R$ 30.46 - 0.12%\nSalário Mensal R$ 2,826.66 -  Salário Anual R$ 37,688.80 - R$ 807.44 - 2.14%\nSalário Mensal R$ 3,751.06 -  Salário Anual R$ 50,014.13 - R$ 2,340.55 - 4.68%\nSalário Mensal R$ 4,664.68 -  Salário Anual R$ 62,195.73 - R$ 4,600.50 - 7.40%\nSalário Mensal R$ 9,000.00 -  Salário Anual R$ 120,000.00 - R$ 17,812.61 - 14.84%\nSalário Mensal R$ 15,000.00 -  Salário Anual R$ 200,000.00 - R$ 36,182.61 - 18.09%\nSalário Mensal R$ 25,000.00 -  Salário Anual R$ 333,333.33 - R$ 66,799.28 - 20.04%\nSalário Mensal R$ 30,000.00 -  Salário Anual R$ 400,000.00 - R$ 82,107.61 - 20.53%\n"
          ],
          "output_type": "stream"
        }
      ],
      "source": "mostrar_descontos_anuais(imposto_de_renda_anual)\n"
    },
    {
      "cell_type": "code",
      "execution_count": 20,
      "metadata": {
        "pycharm": {
          "is_executing": false
        }
      },
      "outputs": [],
      "source": [
        "def inss_anual(salario):\n",
        "    \"\"\"\n",
        "    Calcula valor total decontado do empregado anualmente\n",
        "    :param salario: \n",
        "    :return: \n",
        "    \"\"\"\n",
        "    ONZE_MESES_MAIS_DECIMO_TERCEIRO \u003d 12\n",
        "    inss \u003d inss_empregado(salario) * ONZE_MESES_MAIS_DECIMO_TERCEIRO\n",
        "    salario_ferias \u003d salario + salario / 3\n",
        "    return inss + inss_empregado(salario_ferias)\n"
      ]
    },
    {
      "cell_type": "code",
      "execution_count": 22,
      "metadata": {
        "pycharm": {
          "is_executing": false
        }
      },
      "outputs": [
        {
          "name": "stdout",
          "text": [
            "Salário Mensal R$ 1,903.98 -  Salário Anual R$ 25,386.40 - R$ 2,284.78 - 9.00%\nSalário Mensal R$ 2,826.66 -  Salário Anual R$ 37,688.80 - R$ 3,467.37 - 9.20%\nSalário Mensal R$ 3,751.06 -  Salário Anual R$ 50,014.13 - R$ 5,501.55 - 11.00%\nSalário Mensal R$ 4,664.68 -  Salário Anual R$ 62,195.73 - R$ 6,799.72 - 10.93%\nSalário Mensal R$ 9,000.00 -  Salário Anual R$ 120,000.00 - R$ 8,350.41 - 6.96%\nSalário Mensal R$ 15,000.00 -  Salário Anual R$ 200,000.00 - R$ 8,350.41 - 4.18%\nSalário Mensal R$ 25,000.00 -  Salário Anual R$ 333,333.33 - R$ 8,350.41 - 2.51%\nSalário Mensal R$ 30,000.00 -  Salário Anual R$ 400,000.00 - R$ 8,350.41 - 2.09%\n"
          ],
          "output_type": "stream"
        }
      ],
      "source": "mostrar_descontos_anuais(inss_anual)\n"
    },
    {
      "cell_type": "code",
      "execution_count": 25,
      "metadata": {
        "pycharm": {
          "is_executing": false
        }
      },
      "outputs": [],
      "source": [
        "def impostos_anuais(salario):\n",
        "    return imposto_de_renda_anual(salario)+inss_empregado(salario)"
      ]
    },
    {
      "cell_type": "code",
      "execution_count": 23,
      "metadata": {
        "pycharm": {
          "is_executing": false
        }
      },
      "outputs": [],
      "source": "def resumo_empregado(salario):\n    \"\"\"\n    Retorna tupla com (Salario Mensal, Salario Mensal liquido,Salario Anual Liquido, Salario Liquido +fgts,Salario Bruto Anual , Impostos, FGTS, \n    :param funcao: \n    :return: \n    \"\"\"\n\n    salario_anual_bruto \u003d salario * 13 + salario / 3\n    impostos \u003d impostos_anuais(salario)\n    fgts_anual \u003d fgts_mensal(salario)\n    fgts_anual \u003d fgts_anual * 13 + fgts_anual / 3\n    salario_mensal_liquido \u003d salario - imposto_de_renda_mensal(salario) - fgts_mensal(salario) - inss_empregado(salario)\n    salario_anual_menos_impostos \u003d salario_anual_bruto - impostos\n    return salario, salario_mensal_liquido, salario_anual_menos_impostos, salario_anual_menos_impostos + fgts_anual, salario_anual_bruto, impostos, fgts_anual,\n\n"
    },
    {
      "cell_type": "code",
      "execution_count": 26,
      "metadata": {
        "pycharm": {
          "is_executing": false
        }
      },
      "outputs": [
        {
          "name": "stdout",
          "text": [
            "1,903.98        - 1,519.38        - 25,184.58       - 28,027.85       - 25,386.40       - 201.82          - 2,843.28       \n2,826.66        - 2,200.31        - 36,626.96       - 40,848.11       - 37,688.80       - 1,061.84        - 4,221.15       \n3,751.06        - 2,752.04        - 47,260.97       - 52,862.55       - 50,014.13       - 2,753.17        - 5,601.58       \n4,664.68        - 3,298.38        - 57,082.12       - 64,048.04       - 62,195.73       - 5,113.61        - 6,965.92       \n9,000.00        - 6,065.15        - 101,545.05      - 114,985.05      - 120,000.00      - 18,454.95       - 13,440.00      \n15,000.00       - 10,073.15       - 163,175.05      - 185,575.05      - 200,000.00      - 36,824.95       - 22,400.00      \n25,000.00       - 16,753.15       - 265,891.72      - 303,225.05      - 333,333.33      - 67,441.62       - 37,333.33      \n30,000.00       - 20,093.15       - 317,250.05      - 362,050.05      - 400,000.00      - 82,749.95       - 44,800.00      \n"
          ],
          "output_type": "stream"
        }
      ],
      "source": [
        "for salario in salario_mensal_bruto:\n",
        "    print(*map(lambda v: f\u0027{v:\u003c15,.2f}\u0027, resumo_empregado(salario)), sep\u003d\u0027 - \u0027)\n"
      ]
    },
    {
      "cell_type": "code",
      "execution_count": 27,
      "metadata": {
        "pycharm": {
          "is_executing": false
        }
      },
      "outputs": [],
      "source": "faturamento_bruto \u003d [(s+fgts_mensal(s)) * (13 + 1 / 3) for s in salario_mensal_bruto]\n\n"
    },
    {
      "cell_type": "code",
      "execution_count": 28,
      "metadata": {
        "pycharm": {
          "is_executing": false
        }
      },
      "outputs": [
        {
          "data": {
            "text/plain": "[\u002728,229.68\u0027,\n \u002741,909.95\u0027,\n \u002755,615.72\u0027,\n \u002769,161.66\u0027,\n \u0027133,440.00\u0027,\n \u0027222,400.00\u0027,\n \u0027370,666.67\u0027,\n \u0027444,800.00\u0027]"
          },
          "metadata": {},
          "output_type": "execute_result",
          "execution_count": 28
        }
      ],
      "source": [
        "[f\u0027{v:,.2f}\u0027 for v in faturamento_bruto]"
      ]
    },
    {
      "cell_type": "markdown",
      "metadata": {
        "pycharm": {}
      },
      "source": [
        "# PJ SIMPLES ANEXO III"
      ]
    },
    {
      "cell_type": "code",
      "execution_count": 29,
      "metadata": {
        "pycharm": {
          "is_executing": false
        }
      },
      "outputs": [],
      "source": [
        "def custos_simples_anexo_iii(faturamento_anual, contador\u003d89, prolabore\u003d1_100) -\u003e float:\n",
        "    \"\"\"\n",
        "    Calcula custos de impostos para empresa simples de anexo III\n",
        "    DAS, Prólabore e Contador\n",
        "    \n",
        "    Aliquotas 2019: https://www.contabilizei.com.br/contabilidade-online/anexo-3-simples-nacional/\n",
        "    :param faturamento_anual: \n",
        "    :param contador: \n",
        "    :param prolabore: \n",
        "    :return: \n",
        "    \"\"\"\n",
        "    saldo \u003d faturamento_anual\n",
        "    aliquotas_faixas \u003d {0.33: 3_600_000, 0.21: 1_800_000, 0.16: 720_000, 0.135: 360_000, 0.112: 180_000, 0.06: 0}\n",
        "    imposto \u003d 0\n",
        "    for aliquota, faixa in aliquotas_faixas.items():\n",
        "        delta \u003d max(saldo - faixa, 0)\n",
        "        imposto +\u003d delta * aliquota\n",
        "        saldo \u003d min(saldo, faixa)\n",
        "    inss \u003d prolabore * 0.11\n",
        "    return imposto + 12 * (contador + inss)\n"
      ]
    },
    {
      "cell_type": "code",
      "execution_count": 30,
      "metadata": {
        "pycharm": {
          "is_executing": false
        }
      },
      "outputs": [],
      "source": [
        "def resumo_pj(faturamento):\n",
        "    custo_anual \u003d custos_simples_anexo_iii(faturamento)\n",
        "    return faturamento / 12, (faturamento - custo_anual) / 12, faturamento - custo_anual, faturamento \n",
        "\n"
      ]
    },
    {
      "cell_type": "code",
      "execution_count": 31,
      "metadata": {
        "pycharm": {
          "is_executing": false
        }
      },
      "outputs": [
        {
          "name": "stdout",
          "text": [
            "2,352.47        - 2,001.32        - 24,015.90       - 28,229.68      \n3,492.50        - 3,072.95        - 36,875.35       - 41,909.95      \n4,634.64        - 4,146.56        - 49,758.77       - 55,615.72      \n5,763.47        - 5,207.66        - 62,491.96       - 69,161.66      \n11,120.00       - 10,242.80       - 122,913.60      - 133,440.00     \n18,533.33       - 17,027.60       - 204,331.20      - 222,400.00     \n30,888.89       - 27,978.89       - 335,746.67      - 370,666.67     \n37,066.67       - 33,322.67       - 399,872.00      - 444,800.00     \n"
          ],
          "output_type": "stream"
        }
      ],
      "source": [
        "for faturamento in faturamento_bruto:\n",
        "    print(*map(lambda v: f\u0027{v:\u003c15,.2f}\u0027, resumo_pj(faturamento)), sep\u003d\u0027 - \u0027)"
      ]
    },
    {
      "cell_type": "code",
      "execution_count": 32,
      "metadata": {
        "pycharm": {
          "is_executing": false
        }
      },
      "outputs": [
        {
          "name": "stdout",
          "text": [
            "Salário Mensal 1,903.98\nCLT: R$ 25,184.58      \nPJ: R$ 24,015.90      \nDIFF: R$-1,168.68      \n\nSalário Mensal 2,826.66\nCLT: R$ 36,626.96      \nPJ: R$ 36,875.35      \nDIFF: R$248.39         \n\nSalário Mensal 3,751.06\nCLT: R$ 47,260.97      \nPJ: R$ 49,758.77      \nDIFF: R$2,497.81       \n\nSalário Mensal 4,664.68\nCLT: R$ 57,082.12      \nPJ: R$ 62,491.96      \nDIFF: R$5,409.83       \n\nSalário Mensal 9,000.00\nCLT: R$ 101,545.05     \nPJ: R$ 122,913.60     \nDIFF: R$21,368.55      \n\nSalário Mensal 15,000.00\nCLT: R$ 163,175.05     \nPJ: R$ 204,331.20     \nDIFF: R$41,156.15      \n\nSalário Mensal 25,000.00\nCLT: R$ 265,891.72     \nPJ: R$ 335,746.67     \nDIFF: R$69,854.95      \n\nSalário Mensal 30,000.00\nCLT: R$ 317,250.05     \nPJ: R$ 399,872.00     \nDIFF: R$82,621.95      \n\n"
          ],
          "output_type": "stream"
        }
      ],
      "source": "for salario, faturamento in zip(salario_mensal_bruto, faturamento_bruto):\n    print(f\u0027Salário Mensal {salario:,.2f}\u0027)\n    clt \u003d resumo_empregado(salario)[2]\n    print(f\u0027CLT: R$ {clt :\u003c15,.2f}\u0027, sep\u003d\u0027\u0027)\n    pj \u003d resumo_pj(faturamento)[2]\n    print(f\u0027PJ: R$ {pj :\u003c15,.2f}\u0027)\n    print(f\u0027DIFF: R${pj - clt :\u003c15,.2f}\u0027)\n    print()\n"
    }
  ],
  "metadata": {
    "kernelspec": {
      "display_name": "Python 3",
      "language": "python",
      "name": "python3"
    },
    "language_info": {
      "codemirror_mode": {
        "name": "ipython",
        "version": 3
      },
      "file_extension": ".py",
      "mimetype": "text/x-python",
      "name": "python",
      "nbconvert_exporter": "python",
      "pygments_lexer": "ipython3",
      "version": "3.7.2"
    },
    "stem_cell": {
      "cell_type": "raw",
      "metadata": {
        "pycharm": {
          "metadata": false
        }
      },
      "source": ""
    }
  },
  "nbformat": 4,
  "nbformat_minor": 1
}
